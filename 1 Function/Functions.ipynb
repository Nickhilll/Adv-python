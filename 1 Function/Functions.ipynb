{
 "cells": [
  {
   "cell_type": "markdown",
   "metadata": {},
   "source": [
    "# Functions "
   ]
  },
  {
   "cell_type": "code",
   "execution_count": 9,
   "metadata": {},
   "outputs": [],
   "source": [
    "from warnings import filterwarnings\n",
    "filterwarnings('ignore')"
   ]
  },
  {
   "cell_type": "code",
   "execution_count": 10,
   "metadata": {},
   "outputs": [
    {
     "name": "stdout",
     "output_type": "stream",
     "text": [
      "18\n"
     ]
    }
   ],
   "source": [
    "print(3*6)"
   ]
  },
  {
   "cell_type": "code",
   "execution_count": 11,
   "metadata": {},
   "outputs": [
    {
     "data": {
      "text/plain": [
       "5"
      ]
     },
     "execution_count": 11,
     "metadata": {},
     "output_type": "execute_result"
    }
   ],
   "source": [
    "a = [1,2,3,4,5]\n",
    "len(a)"
   ]
  },
  {
   "cell_type": "markdown",
   "metadata": {},
   "source": [
    "# User define functions"
   ]
  },
  {
   "cell_type": "code",
   "execution_count": 7,
   "metadata": {},
   "outputs": [],
   "source": [
    "def add(a:int|float, b:int|float) -> int|float:\n",
    "    \"\"\"Addition of two numbers\"\"\"\n",
    "    c = a+b\n",
    "    return c"
   ]
  },
  {
   "cell_type": "code",
   "execution_count": 8,
   "metadata": {},
   "outputs": [
    {
     "data": {
      "text/plain": [
       "40"
      ]
     },
     "execution_count": 8,
     "metadata": {},
     "output_type": "execute_result"
    }
   ],
   "source": [
    "add(10,30)"
   ]
  },
  {
   "cell_type": "markdown",
   "metadata": {},
   "source": [
    "# Varidac function\n",
    "### func(*args)\n",
    "### *args act like a tuple here in python"
   ]
  },
  {
   "cell_type": "code",
   "execution_count": 12,
   "metadata": {},
   "outputs": [],
   "source": [
    "def funct(*args):\n",
    "    print(args, type(args))\n",
    "    for i in args:\n",
    "        print(i)\n",
    "    return args"
   ]
  },
  {
   "cell_type": "code",
   "execution_count": 13,
   "metadata": {},
   "outputs": [
    {
     "name": "stdout",
     "output_type": "stream",
     "text": [
      "(2, 3) <class 'tuple'>\n",
      "2\n",
      "3\n"
     ]
    }
   ],
   "source": [
    "b1 = funct(2,3)"
   ]
  },
  {
   "cell_type": "code",
   "execution_count": 14,
   "metadata": {},
   "outputs": [
    {
     "data": {
      "text/plain": [
       "(2, 3)"
      ]
     },
     "execution_count": 14,
     "metadata": {},
     "output_type": "execute_result"
    }
   ],
   "source": [
    "b1"
   ]
  },
  {
   "cell_type": "code",
   "execution_count": 15,
   "metadata": {},
   "outputs": [
    {
     "name": "stdout",
     "output_type": "stream",
     "text": [
      "(1, 'Hello1', 2.4, True, False) <class 'tuple'>\n",
      "1\n",
      "Hello1\n",
      "2.4\n",
      "True\n",
      "False\n"
     ]
    },
    {
     "data": {
      "text/plain": [
       "(1, 'Hello1', 2.4, True, False)"
      ]
     },
     "execution_count": 15,
     "metadata": {},
     "output_type": "execute_result"
    }
   ],
   "source": [
    "b2 = funct(1,\"Hello1\",2.4, True, False)\n",
    "b2"
   ]
  },
  {
   "cell_type": "code",
   "execution_count": 16,
   "metadata": {},
   "outputs": [
    {
     "name": "stdout",
     "output_type": "stream",
     "text": [
      "('Nikhil', 'priya', 'manish') <class 'tuple'>\n",
      "Nikhil\n",
      "priya\n",
      "manish\n"
     ]
    },
    {
     "data": {
      "text/plain": [
       "('Nikhil', 'priya', 'manish')"
      ]
     },
     "execution_count": 16,
     "metadata": {},
     "output_type": "execute_result"
    }
   ],
   "source": [
    "b3 = funct('Nikhil', 'priya', 'manish')\n",
    "b3"
   ]
  },
  {
   "cell_type": "markdown",
   "metadata": {},
   "source": [
    "## Write a function to add any amount of numbers"
   ]
  },
  {
   "cell_type": "code",
   "execution_count": 17,
   "metadata": {},
   "outputs": [],
   "source": [
    "def add_multiple(*args):\n",
    "    #Initialize sum to 0\n",
    "    sum = 0\n",
    "    \n",
    "    #Apply for loop on args\n",
    "    for i in args:\n",
    "        sum = sum+i\n",
    "        \n",
    "    #return the value of sum\n",
    "    return sum"
   ]
  },
  {
   "cell_type": "code",
   "execution_count": 18,
   "metadata": {},
   "outputs": [
    {
     "data": {
      "text/plain": [
       "88"
      ]
     },
     "execution_count": 18,
     "metadata": {},
     "output_type": "execute_result"
    }
   ],
   "source": [
    "add_multiple(78,10)"
   ]
  },
  {
   "cell_type": "code",
   "execution_count": 19,
   "metadata": {},
   "outputs": [
    {
     "data": {
      "text/plain": [
       "273.3"
      ]
     },
     "execution_count": 19,
     "metadata": {},
     "output_type": "execute_result"
    }
   ],
   "source": [
    "add_multiple(23.3,50,200)"
   ]
  },
  {
   "cell_type": "code",
   "execution_count": 21,
   "metadata": {},
   "outputs": [
    {
     "data": {
      "text/plain": [
       "range(1, 50)"
      ]
     },
     "execution_count": 21,
     "metadata": {},
     "output_type": "execute_result"
    }
   ],
   "source": [
    "c = range(1,50)\n",
    "c"
   ]
  },
  {
   "cell_type": "code",
   "execution_count": 22,
   "metadata": {},
   "outputs": [
    {
     "data": {
      "text/plain": [
       "[1,\n",
       " 2,\n",
       " 3,\n",
       " 4,\n",
       " 5,\n",
       " 6,\n",
       " 7,\n",
       " 8,\n",
       " 9,\n",
       " 10,\n",
       " 11,\n",
       " 12,\n",
       " 13,\n",
       " 14,\n",
       " 15,\n",
       " 16,\n",
       " 17,\n",
       " 18,\n",
       " 19,\n",
       " 20,\n",
       " 21,\n",
       " 22,\n",
       " 23,\n",
       " 24,\n",
       " 25,\n",
       " 26,\n",
       " 27,\n",
       " 28,\n",
       " 29,\n",
       " 30,\n",
       " 31,\n",
       " 32,\n",
       " 33,\n",
       " 34,\n",
       " 35,\n",
       " 36,\n",
       " 37,\n",
       " 38,\n",
       " 39]"
      ]
     },
     "execution_count": 22,
     "metadata": {},
     "output_type": "execute_result"
    }
   ],
   "source": [
    "c = list(range(1,40))\n",
    "c"
   ]
  },
  {
   "cell_type": "code",
   "execution_count": 23,
   "metadata": {},
   "outputs": [
    {
     "data": {
      "text/plain": [
       "780"
      ]
     },
     "execution_count": 23,
     "metadata": {},
     "output_type": "execute_result"
    }
   ],
   "source": [
    "#Unpack and provide lis/tuple as input here\n",
    "add_multiple(*c)"
   ]
  },
  {
   "cell_type": "markdown",
   "metadata": {},
   "source": [
    "## Billing Example"
   ]
  },
  {
   "cell_type": "code",
   "execution_count": 24,
   "metadata": {},
   "outputs": [],
   "source": [
    "cart1 = [\n",
    "    ('Laptop', 54000,2),\n",
    "    ('headphones', 1500, 4),\n",
    "    ('Mouse', 500, 2),\n",
    "    ('keyboard', 1200, 10),\n",
    "    ('Mouse pad', 300, 2)\n",
    "]"
   ]
  },
  {
   "cell_type": "code",
   "execution_count": 25,
   "metadata": {},
   "outputs": [],
   "source": [
    "def billing(cart_id:int, *args) -> int|float:\n",
    "    # Initialize total to 0\n",
    "    total = 0\n",
    "    \n",
    "    # Print the cart id \n",
    "    print(f'Cart Id{cart_id}')\n",
    "    # Apply for loop on args\n",
    "    for product, price, qty in args:\n",
    "        item_total = qty * price\n",
    "        total = total + item_total\n",
    "        print(f\"Product : {product}, Price : {price} INR, Qty : {qty} Nos\")\n",
    "        print(f\"Item Total : {item_total:.2f} INR\")\n",
    "        print(\"\\n================================================================\\n\")\n",
    "\n",
    "# Show the total\n",
    "    print(f\"Final Total : {total:.2f} INR\")\n",
    "    return total"
   ]
  },
  {
   "cell_type": "code",
   "execution_count": 26,
   "metadata": {},
   "outputs": [
    {
     "data": {
      "text/plain": [
       "[('Laptop', 54000, 2),\n",
       " ('headphones', 1500, 4),\n",
       " ('Mouse', 500, 2),\n",
       " ('keyboard', 1200, 10),\n",
       " ('Mouse pad', 300, 2)]"
      ]
     },
     "execution_count": 26,
     "metadata": {},
     "output_type": "execute_result"
    }
   ],
   "source": [
    "cart1"
   ]
  },
  {
   "cell_type": "code",
   "execution_count": 27,
   "metadata": {},
   "outputs": [
    {
     "name": "stdout",
     "output_type": "stream",
     "text": [
      "Cart Id101\n",
      "Product : Laptop, Price : 54000 INR, Qty : 2 Nos\n",
      "Item Total : 108000.00 INR\n",
      "\n",
      "================================================================\n",
      "\n",
      "Product : headphones, Price : 1500 INR, Qty : 4 Nos\n",
      "Item Total : 6000.00 INR\n",
      "\n",
      "================================================================\n",
      "\n",
      "Product : Mouse, Price : 500 INR, Qty : 2 Nos\n",
      "Item Total : 1000.00 INR\n",
      "\n",
      "================================================================\n",
      "\n",
      "Product : keyboard, Price : 1200 INR, Qty : 10 Nos\n",
      "Item Total : 12000.00 INR\n",
      "\n",
      "================================================================\n",
      "\n",
      "Product : Mouse pad, Price : 300 INR, Qty : 2 Nos\n",
      "Item Total : 600.00 INR\n",
      "\n",
      "================================================================\n",
      "\n",
      "Final Total : 127600.00 INR\n"
     ]
    }
   ],
   "source": [
    "c1 = billing(101, *cart1)"
   ]
  },
  {
   "cell_type": "code",
   "execution_count": 28,
   "metadata": {},
   "outputs": [
    {
     "data": {
      "text/plain": [
       "127600"
      ]
     },
     "execution_count": 28,
     "metadata": {},
     "output_type": "execute_result"
    }
   ],
   "source": [
    "c1"
   ]
  },
  {
   "cell_type": "code",
   "execution_count": 29,
   "metadata": {},
   "outputs": [
    {
     "name": "stdout",
     "output_type": "stream",
     "text": [
      "Cart Id102\n",
      "Product : GPU, Price : 50000 INR, Qty : 1 Nos\n",
      "Item Total : 50000.00 INR\n",
      "\n",
      "================================================================\n",
      "\n",
      "Product : RAM, Price : 5000 INR, Qty : 2 Nos\n",
      "Item Total : 10000.00 INR\n",
      "\n",
      "================================================================\n",
      "\n",
      "Final Total : 60000.00 INR\n"
     ]
    }
   ],
   "source": [
    "c2 = billing(\n",
    "    102,\n",
    "    (\"GPU\", 50000, 1),\n",
    "    (\"RAM\", 5000, 2)\n",
    ")"
   ]
  },
  {
   "cell_type": "code",
   "execution_count": 30,
   "metadata": {},
   "outputs": [
    {
     "data": {
      "text/plain": [
       "60000"
      ]
     },
     "execution_count": 30,
     "metadata": {},
     "output_type": "execute_result"
    }
   ],
   "source": [
    "c2\n"
   ]
  },
  {
   "cell_type": "code",
   "execution_count": 31,
   "metadata": {},
   "outputs": [
    {
     "name": "stdout",
     "output_type": "stream",
     "text": [
      "Help on function billing in module __main__:\n",
      "\n",
      "billing(cart_id: int, *args) -> int | float\n",
      "\n"
     ]
    }
   ],
   "source": [
    "help(billing)"
   ]
  },
  {
   "cell_type": "markdown",
   "metadata": {},
   "source": [
    "## Keywords arguments"
   ]
  },
  {
   "cell_type": "markdown",
   "metadata": {},
   "source": [
    "kwords - This will act like a dictionary in python"
   ]
  },
  {
   "cell_type": "code",
   "execution_count": 34,
   "metadata": {},
   "outputs": [
    {
     "data": {
      "text/plain": [
       "{'a': 1, 'b': 2, 'c': 3, 'd': 4}"
      ]
     },
     "execution_count": 34,
     "metadata": {},
     "output_type": "execute_result"
    }
   ],
   "source": [
    "d = {\n",
    "    \"a\": 1,\n",
    "    \"b\": 2,\n",
    "    \"c\": 3,\n",
    "    \"d\": 4\n",
    "}\n",
    "d"
   ]
  },
  {
   "cell_type": "code",
   "execution_count": 35,
   "metadata": {},
   "outputs": [
    {
     "data": {
      "text/plain": [
       "dict"
      ]
     },
     "execution_count": 35,
     "metadata": {},
     "output_type": "execute_result"
    }
   ],
   "source": [
    "type(d)"
   ]
  },
  {
   "cell_type": "code",
   "execution_count": 36,
   "metadata": {},
   "outputs": [
    {
     "data": {
      "text/plain": [
       "2"
      ]
     },
     "execution_count": 36,
     "metadata": {},
     "output_type": "execute_result"
    }
   ],
   "source": [
    "d['b']"
   ]
  },
  {
   "cell_type": "code",
   "execution_count": 37,
   "metadata": {},
   "outputs": [
    {
     "data": {
      "text/plain": [
       "3"
      ]
     },
     "execution_count": 37,
     "metadata": {},
     "output_type": "execute_result"
    }
   ],
   "source": [
    "d.get('c')"
   ]
  },
  {
   "cell_type": "code",
   "execution_count": 38,
   "metadata": {},
   "outputs": [
    {
     "data": {
      "text/plain": [
       "'N/A'"
      ]
     },
     "execution_count": 38,
     "metadata": {},
     "output_type": "execute_result"
    }
   ],
   "source": [
    "d.get(\"e\", \"N/A\")"
   ]
  },
  {
   "cell_type": "code",
   "execution_count": 39,
   "metadata": {},
   "outputs": [
    {
     "name": "stdout",
     "output_type": "stream",
     "text": [
      "None\n"
     ]
    }
   ],
   "source": [
    "print(d.get(\"e\"))\n"
   ]
  },
  {
   "cell_type": "code",
   "execution_count": 40,
   "metadata": {},
   "outputs": [
    {
     "data": {
      "text/plain": [
       "dict_items([('a', 1), ('b', 2), ('c', 3), ('d', 4)])"
      ]
     },
     "execution_count": 40,
     "metadata": {},
     "output_type": "execute_result"
    }
   ],
   "source": [
    "d.items()\n"
   ]
  },
  {
   "cell_type": "code",
   "execution_count": 41,
   "metadata": {},
   "outputs": [
    {
     "name": "stdout",
     "output_type": "stream",
     "text": [
      "a : 1\n",
      "b : 2\n",
      "c : 3\n",
      "d : 4\n"
     ]
    }
   ],
   "source": [
    "for key, value in d.items():\n",
    "    print(f\"{key} : {value}\")"
   ]
  },
  {
   "cell_type": "code",
   "execution_count": 44,
   "metadata": {},
   "outputs": [],
   "source": [
    "def func2(**kwargs):\n",
    "    print(kwargs, type(kwargs))\n",
    "\n",
    "    for key, value in kwargs.items():\n",
    "        print(f\"{key}: {value}\")\n",
    "        \n",
    "    return kwargs\n"
   ]
  },
  {
   "cell_type": "code",
   "execution_count": 45,
   "metadata": {},
   "outputs": [
    {
     "name": "stdout",
     "output_type": "stream",
     "text": [
      "{'name': 'Sarthak', 'age': 23} <class 'dict'>\n",
      "name: Sarthak\n",
      "age: 23\n"
     ]
    },
    {
     "data": {
      "text/plain": [
       "{'name': 'Sarthak', 'age': 23}"
      ]
     },
     "execution_count": 45,
     "metadata": {},
     "output_type": "execute_result"
    }
   ],
   "source": [
    "func2(name=\"Sarthak\", age=23)"
   ]
  },
  {
   "cell_type": "code",
   "execution_count": 47,
   "metadata": {},
   "outputs": [
    {
     "name": "stdout",
     "output_type": "stream",
     "text": [
      "{'name': 'Aditi', 'age': 25, 'email': 'aditi@gmail.com', 'location': 'Pune'} <class 'dict'>\n",
      "name: Aditi\n",
      "age: 25\n",
      "email: aditi@gmail.com\n",
      "location: Pune\n"
     ]
    },
    {
     "data": {
      "text/plain": [
       "{'name': 'Aditi', 'age': 25, 'email': 'aditi@gmail.com', 'location': 'Pune'}"
      ]
     },
     "execution_count": 47,
     "metadata": {},
     "output_type": "execute_result"
    }
   ],
   "source": [
    "d2 = func2(name=\"Aditi\", age=25, email=\"aditi@gmail.com\", location=\"Pune\")\n",
    "d2"
   ]
  },
  {
   "cell_type": "markdown",
   "metadata": {},
   "source": [
    "## Practical example of kwargs"
   ]
  },
  {
   "cell_type": "code",
   "execution_count": 48,
   "metadata": {},
   "outputs": [],
   "source": [
    "def create_user(**kwargs):\n",
    "\n",
    "    if \"username\" not in kwargs:\n",
    "        raise ValueError(\"username should be available while creating a user\")\n",
    "    \n",
    "    profile = {\n",
    "        \"username\": kwargs[\"username\"],\n",
    "        \"Full Name\": kwargs.get(\"full_name\", \"N/A\"),\n",
    "        \"Email\": kwargs.get(\"email\", \"N/A\"),\n",
    "        \"City\": kwargs.get(\"city\", \"N/A\"),\n",
    "        \"Blood Group\": kwargs.get(\"blood_group\", \"N/A\") \n",
    "    }\n",
    "\n",
    "    return profile"
   ]
  },
  {
   "cell_type": "code",
   "execution_count": 50,
   "metadata": {},
   "outputs": [
    {
     "data": {
      "text/plain": [
       "{'username': 'sarthaks3',\n",
       " 'Full Name': 'Sarthak More',\n",
       " 'Email': 'N/A',\n",
       " 'City': 'Nashik',\n",
       " 'Blood Group': 'N/A'}"
      ]
     },
     "execution_count": 50,
     "metadata": {},
     "output_type": "execute_result"
    }
   ],
   "source": [
    "u1 = create_user(\n",
    "    username=\"sarthaks3\",\n",
    "    full_name= \"Sarthak More\",\n",
    "    city = \"Nashik\"\n",
    ")\n",
    "u1"
   ]
  },
  {
   "cell_type": "code",
   "execution_count": 51,
   "metadata": {},
   "outputs": [
    {
     "data": {
      "text/plain": [
       "{'username': 'ramanv4',\n",
       " 'Full Name': 'Raman Verma',\n",
       " 'Email': 'raman@gmail.com',\n",
       " 'City': 'N/A',\n",
       " 'Blood Group': 'A+ve'}"
      ]
     },
     "execution_count": 51,
     "metadata": {},
     "output_type": "execute_result"
    }
   ],
   "source": [
    "\n",
    "u2 = create_user(\n",
    "    username = \"ramanv4\",\n",
    "    full_name = \"Raman Verma\",\n",
    "    email = \"raman@gmail.com\",\n",
    "    blood_group = \"A+ve\"\n",
    ")\n",
    "u2"
   ]
  },
  {
   "cell_type": "code",
   "execution_count": 52,
   "metadata": {},
   "outputs": [
    {
     "data": {
      "text/plain": [
       "{'username': 'rahuls1',\n",
       " 'Full Name': 'Rahul Sharma',\n",
       " 'Email': 'rahuls@test.com',\n",
       " 'City': 'Pune',\n",
       " 'Blood Group': 'B+ve'}"
      ]
     },
     "execution_count": 52,
     "metadata": {},
     "output_type": "execute_result"
    }
   ],
   "source": [
    "u4 = create_user(\n",
    "    username = \"rahuls1\",\n",
    "    full_name = \"Rahul Sharma\",\n",
    "    email = \"rahuls@test.com\",\n",
    "    city = \"Pune\",\n",
    "    blood_group = \"B+ve\"\n",
    ")\n",
    "u4"
   ]
  },
  {
   "cell_type": "code",
   "execution_count": null,
   "metadata": {},
   "outputs": [],
   "source": []
  }
 ],
 "metadata": {
  "kernelspec": {
   "display_name": "venv",
   "language": "python",
   "name": "python3"
  },
  "language_info": {
   "codemirror_mode": {
    "name": "ipython",
    "version": 3
   },
   "file_extension": ".py",
   "mimetype": "text/x-python",
   "name": "python",
   "nbconvert_exporter": "python",
   "pygments_lexer": "ipython3",
   "version": "3.12.5"
  }
 },
 "nbformat": 4,
 "nbformat_minor": 2
}
